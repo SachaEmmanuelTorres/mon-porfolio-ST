{
 "cells": [
  {
   "cell_type": "code",
   "execution_count": null,
   "id": "7dbe5ee0",
   "metadata": {},
   "outputs": [],
   "source": [
    "%pip install pandas\n",
    "%pip install sqlalchemy\n",
    "%pip install psycopg2-binary\n",
    "%pip install ipython-sql"
   ]
  },
  {
   "cell_type": "code",
   "execution_count": null,
   "id": "2fff006c",
   "metadata": {},
   "outputs": [],
   "source": [
    "%load_ext sql"
   ]
  },
  {
   "cell_type": "code",
   "execution_count": null,
   "id": "autopandas_config_cell",
   "metadata": {},
   "outputs": [],
   "source": [
    "%config SqlMagic.autopandas = True"
   ]
  },
  {
   "cell_type": "markdown",
   "id": "13130091-47c3-4a8e-8b27-e92ea2af76f1",
   "metadata": {},
   "source": [
    "#### Chargement de la base de données sqlite explo.db"
   ]
  },
  {
   "cell_type": "code",
   "execution_count": null,
   "id": "df70fad8",
   "metadata": {},
   "outputs": [],
   "source": [
    "%sql sqlite:///../explo.db"
   ]
  },
  {
   "cell_type": "markdown",
   "id": "6732a78c",
   "metadata": {},
   "source": [
    "#### Chargement de la data"
   ]
  },
  {
   "cell_type": "code",
   "execution_count": null,
   "id": "4a1d4e47",
   "metadata": {},
   "outputs": [],
   "source": [
    "! python populate_db.py"
   ]
  },
  {
   "cell_type": "markdown",
   "id": "fcc952f9-ead8-426f-a65e-2f933db9d2f3",
   "metadata": {},
   "source": [
    "### Requêtes SQL dans le notebook"
   ]
  },
  {
   "cell_type": "code",
   "execution_count": null,
   "id": "create_employees_table",
   "metadata": {},
   "outputs": [],
   "source": [
    "%%sql\n",
    "CREATE TABLE IF NOT EXISTS employees (\n",
    "    id INTEGER PRIMARY KEY,\n",
    "    name TEXT NOT NULL,\n",
    "    department TEXT NOT NULL\n",
    ")"
   ]
  },
  {
   "cell_type": "markdown",
   "id": "19ce9580-25f5-44c2-89db-9ad340d3aaa6",
   "metadata": {},
   "source": [
    "#### Création d'un DataFrame à partir d'une requête SQL"
   ]
  },
  {
   "cell_type": "code",
   "execution_count": null,
   "id": "dataframe_from_sql",
   "metadata": {},
   "outputs": [],
   "source": [
    "import pandas as pd\n",
    "\n",
    "query = \"SELECT DISTINCT id, name, department FROM employees;\"\n",
    "df = pd.read_sql_query(query, 'sqlite:///../explo.db')\n",
    "print(df)"
   ]
  },
  {
   "cell_type": "markdown",
   "id": "72cd057e-47a0-4156-8515-28b4e79093a5",
   "metadata": {},
   "source": [
    "#### Autres requêtes SQL sur base de données SQLite explo.db"
   ]
  },
  {
   "cell_type": "code",
   "execution_count": null,
   "id": "update_employees",
   "metadata": {},
   "outputs": [],
   "source": [
    "%%sql\n",
    "UPDATE employees\n",
    "SET name = 'Sacha'\n",
    "WHERE name = 'Albert' AND department = 'HR'"
   ]
  },
  {
   "cell_type": "code",
   "execution_count": null,
   "id": "delete_employees",
   "metadata": {},
   "outputs": [],
   "source": [
    "%%sql\n",
    "DELETE FROM employees\n",
    "WHERE name = 'Sacha'"
   ]
  },
  {
   "cell_type": "markdown",
   "id": "d765bc8e-26fb-4704-ae1e-1c118312c3f5",
   "metadata": {
    "vscode": {
     "languageId": "sql"
    }
   },
   "source": [
    "Oui, la contrainte `CHECK(price > 0)` garantit que la colonne `price` de la table `products` \n",
    "ne peut contenir que des valeurs strictement positives. \n",
    "Si une tentative est faite pour insérer ou mettre à jour une valeur de `price` \n",
    "qui n'est pas strictement positive, une erreur sera levée.\n"
   ]
  },
  {
   "cell_type": "code",
   "execution_count": null,
   "id": "effcdeda",
   "metadata": {},
   "outputs": [],
   "source": [
    "df_products = pd.read_sql_query(\"SELECT * FROM products;\", 'sqlite:///../explo.db')\n",
    "df_products\n"
   ]
  },
  {
   "cell_type": "code",
   "execution_count": null,
   "id": "inner_join_query",
   "metadata": {
    "vscode": {
     "languageId": "sql"
    }
   },
   "outputs": [],
   "source": [
    "import pandas as pd\n",
    "query = \"SELECT orders.order_id, orders.customer_id, customers.name FROM orders INNER JOIN customers ON orders.customer_id = customers.id;\"\n",
    "df_inner_join = pd.read_sql_query(query, 'sqlite:///../explo.db')\n",
    "print(\"INNER JOIN Result:\")\n",
    "print(df_inner_join)"
   ]
  },
  {
   "cell_type": "code",
   "execution_count": null,
   "id": "left_join_query",
   "metadata": {
    "vscode": {
     "languageId": "sql"
    }
   },
   "outputs": [],
   "source": [
    "import pandas as pd\n",
    "query = \"SELECT orders.order_id, orders.customer_id, customers.name FROM orders LEFT JOIN customers ON orders.customer_id = customers.id;\"\n",
    "df_left_join = pd.read_sql_query(query, 'sqlite:///../explo.db')\n",
    "print(\"LEFT JOIN Result:\")\n",
    "print(df_left_join)"
   ]
  },
  {
   "cell_type": "code",
   "execution_count": null,
   "id": "right_join_simulated_query",
   "metadata": {
    "vscode": {
     "languageId": "sql"
    }
   },
   "outputs": [],
   "source": [
    "import pandas as pd\n",
    "query = \"SELECT customers.id, customers.name, orders.order_id FROM customers LEFT JOIN orders ON customers.id = orders.customer_id;\"\n",
    "print(\"Simulated RIGHT JOIN Result:\")\n",
    "print(df_right_join)"
   ]
  },
  {
   "cell_type": "code",
   "execution_count": 15,
   "id": "full_outer_join_simulated_query",
   "metadata": {
    "vscode": {
     "languageId": "sql"
    }
   },
   "outputs": [
    {
     "name": "stdout",
     "output_type": "stream",
     "text": [
      "Simulated FULL OUTER JOIN Result:\n",
      "    order_id  customer_id        name\n",
      "0        NaN          NaN  Customer B\n",
      "1        NaN          NaN  Customer C\n",
      "2        NaN          NaN  Customer D\n",
      "3        NaN          NaN  Customer F\n",
      "4        NaN          NaN  Customer H\n",
      "5        1.0         10.0  Customer A\n",
      "6        2.0         10.0  Customer A\n",
      "7        3.0         14.0  Customer E\n",
      "8        4.0         14.0  Customer E\n",
      "9        5.0         14.0  Customer E\n",
      "10       6.0         16.0  Customer G\n",
      "11       7.0         16.0  Customer G\n",
      "12       8.0         18.0  Customer I\n",
      "13       9.0         18.0  Customer I\n"
     ]
    }
   ],
   "source": [
    "import pandas as pd\n",
    "query = \"SELECT orders.order_id, orders.customer_id, customers.name FROM orders LEFT JOIN customers ON orders.customer_id = customers.id UNION SELECT orders.order_id, orders.customer_id, customers.name FROM customers LEFT JOIN orders ON customers.id = orders.customer_id;\"\n",
    "df_full_outer_join = pd.read_sql_query(query, 'sqlite:///../explo.db')\n",
    "print(\"Simulated FULL OUTER JOIN Result:\")\n",
    "print(df_full_outer_join)"
   ]
  },
  {
   "cell_type": "code",
   "execution_count": 16,
   "id": "auto_join_query",
   "metadata": {
    "vscode": {
     "languageId": "sql"
    }
   },
   "outputs": [
    {
     "name": "stdout",
     "output_type": "stream",
     "text": [
      "AUTO JOIN Result:\n",
      "    customer_id_1 customer_name_1  customer_id_2 customer_name_2\n",
      "0              10      Customer A             11      Customer B\n",
      "1              10      Customer A             12      Customer C\n",
      "2              10      Customer A             13      Customer D\n",
      "3              10      Customer A             14      Customer E\n",
      "4              10      Customer A             15      Customer F\n",
      "..            ...             ...            ...             ...\n",
      "67             18      Customer I             13      Customer D\n",
      "68             18      Customer I             14      Customer E\n",
      "69             18      Customer I             15      Customer F\n",
      "70             18      Customer I             16      Customer G\n",
      "71             18      Customer I             17      Customer H\n",
      "\n",
      "[72 rows x 4 columns]\n"
     ]
    }
   ],
   "source": [
    "import pandas as pd\n",
    "query = \"SELECT c1.id AS customer_id_1, c1.name AS customer_name_1, c2.id AS customer_id_2, c2.name AS customer_name_2 FROM customers c1 INNER JOIN customers c2 ON c1.id != c2.id;\"\n",
    "df_auto_join = pd.read_sql_query(query, 'sqlite:///../explo.db')\n",
    "print(\"AUTO JOIN Result:\")\n",
    "print(df_auto_join)"
   ]
  }
 ],
 "metadata": {
  "kernelspec": {
   "display_name": "Python 3 (ipykernel)",
   "language": "python",
   "name": "python3"
  },
  "language_info": {
   "codemirror_mode": {
    "name": "ipython",
    "version": 3
   },
   "file_extension": ".py",
   "mimetype": "text/x-python",
   "name": "python",
   "nbconvert_exporter": "python",
   "pygments_lexer": "ipython3",
   "version": "3.12.11"
  }
 },
 "nbformat": 4,
 "nbformat_minor": 5
}
