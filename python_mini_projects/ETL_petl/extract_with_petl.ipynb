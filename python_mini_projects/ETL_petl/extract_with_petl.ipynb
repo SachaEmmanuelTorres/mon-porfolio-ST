{
 "cells": [
  {
   "cell_type": "code",
   "execution_count": 1,
   "id": "bae641d2",
   "metadata": {},
   "outputs": [],
   "source": [
    "import petl as etl"
   ]
  },
  {
   "cell_type": "code",
   "execution_count": 4,
   "id": "05e91744",
   "metadata": {},
   "outputs": [
    {
     "data": {
      "text/plain": [
       "+-----+-----------+-----------------+------------+\n",
       "| id  | name      | age             | city       |\n",
       "+=====+===========+=================+============+\n",
       "| '1' | 'Alice'   | '25'            | 'New York' |\n",
       "+-----+-----------+-----------------+------------+\n",
       "| '2' | 'Bob'     | 'not_available' | 'London'   |\n",
       "+-----+-----------+-----------------+------------+\n",
       "| '3' | 'Charlie' | '30'            | 'Sydney'   |\n",
       "+-----+-----------+-----------------+------------+\n",
       "| '4' | 'David'   | '22'            | 'New York' |\n",
       "+-----+-----------+-----------------+------------+"
      ]
     },
     "execution_count": 4,
     "metadata": {},
     "output_type": "execute_result"
    }
   ],
   "source": [
    "# lecture du fichier CSV\n",
    "table = etl.fromcsv('test.csv')\n",
    "\n",
    "# affichage du resultat\n",
    "etl.look(table)"
   ]
  }
 ],
 "metadata": {
  "kernelspec": {
   "display_name": ".env",
   "language": "python",
   "name": "python3"
  },
  "language_info": {
   "codemirror_mode": {
    "name": "ipython",
    "version": 3
   },
   "file_extension": ".py",
   "mimetype": "text/x-python",
   "name": "python",
   "nbconvert_exporter": "python",
   "pygments_lexer": "ipython3",
   "version": "3.12.11"
  }
 },
 "nbformat": 4,
 "nbformat_minor": 5
}
